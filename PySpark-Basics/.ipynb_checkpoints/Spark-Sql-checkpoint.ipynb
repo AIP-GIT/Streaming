{
 "cells": [
  {
   "cell_type": "code",
   "execution_count": 49,
   "id": "8fbec34b",
   "metadata": {},
   "outputs": [],
   "source": [
    "from pyspark.sql import SparkSession\n",
    "from pyspark.sql import Row\n",
    "import collections\n",
    "\n",
    "#UDF\n",
    "from pyspark.sql.types import IntegerType\n",
    "\n",
    "# Dataframe instead of RDD\n",
    "from pyspark.sql import functions"
   ]
  },
  {
   "cell_type": "code",
   "execution_count": 15,
   "id": "65a24697",
   "metadata": {},
   "outputs": [
    {
     "name": "stderr",
     "output_type": "stream",
     "text": [
      "22/03/24 13:28:02 WARN Utils: Service 'SparkUI' could not bind on port 4040. Attempting port 4041.\n",
      "22/03/24 13:28:02 WARN Utils: Service 'SparkUI' could not bind on port 4041. Attempting port 4042.\n",
      "22/03/24 13:28:02 WARN Utils: Service 'SparkUI' could not bind on port 4042. Attempting port 4043.\n",
      "22/03/24 13:28:02 WARN Utils: Service 'SparkUI' could not bind on port 4043. Attempting port 4044.\n"
     ]
    }
   ],
   "source": [
    "spark = SparkSession.builder.appName(\"SparkSQL\").getOrCreate()"
   ]
  },
  {
   "cell_type": "markdown",
   "id": "80f1d062",
   "metadata": {},
   "source": [
    "# Spark-Sql"
   ]
  },
  {
   "cell_type": "code",
   "execution_count": 16,
   "id": "be1b6d3e",
   "metadata": {},
   "outputs": [],
   "source": [
    "def mapper(line):\n",
    "    fields = line.split(',')\n",
    "    return Row(ID=int(fields[0]), name=str(fields[1].encode(\"utf-8\")), age=int(fields[2]), numFriends=int(fields[3]))"
   ]
  },
  {
   "cell_type": "code",
   "execution_count": 17,
   "id": "a91c3737",
   "metadata": {},
   "outputs": [],
   "source": [
    "lines = spark.sparkContext.textFile(\"data/fakefriends.csv\")\n",
    "people = lines.map(mapper)"
   ]
  },
  {
   "cell_type": "code",
   "execution_count": 18,
   "id": "13cdc2f3",
   "metadata": {},
   "outputs": [],
   "source": [
    "schemaPeople = spark.createDataFrame(people).cache()\n",
    "schemaPeople.createOrReplaceTempView(\"people\")"
   ]
  },
  {
   "cell_type": "code",
   "execution_count": 19,
   "id": "045b7c72",
   "metadata": {},
   "outputs": [],
   "source": [
    "people_sql = spark.sql(\"SELECT * FROM people\")"
   ]
  },
  {
   "cell_type": "code",
   "execution_count": 21,
   "id": "4975c55b",
   "metadata": {},
   "outputs": [
    {
     "name": "stdout",
     "output_type": "stream",
     "text": [
      "+---+-----------+---+----------+\n",
      "| ID|       name|age|numFriends|\n",
      "+---+-----------+---+----------+\n",
      "|  0|    b'Will'| 33|       385|\n",
      "|  1|b'Jean-Luc'| 26|         2|\n",
      "|  2|    b'Hugh'| 55|       221|\n",
      "|  3|  b'Deanna'| 40|       465|\n",
      "|  4|   b'Quark'| 68|        21|\n",
      "+---+-----------+---+----------+\n",
      "only showing top 5 rows\n",
      "\n"
     ]
    }
   ],
   "source": [
    "people_sql.show(5)"
   ]
  },
  {
   "cell_type": "code",
   "execution_count": 26,
   "id": "9dc6d467",
   "metadata": {},
   "outputs": [
    {
     "name": "stdout",
     "output_type": "stream",
     "text": [
      "+-----------+---+\n",
      "|       name|age|\n",
      "+-----------+---+\n",
      "|    b'Will'| 33|\n",
      "|b'Jean-Luc'| 26|\n",
      "|    b'Hugh'| 55|\n",
      "|  b'Deanna'| 40|\n",
      "|   b'Quark'| 68|\n",
      "+-----------+---+\n",
      "only showing top 5 rows\n",
      "\n"
     ]
    }
   ],
   "source": [
    "people_sql.select([\"name\",\"age\"]).show(5)"
   ]
  },
  {
   "cell_type": "code",
   "execution_count": 39,
   "id": "f1a197d3",
   "metadata": {},
   "outputs": [
    {
     "name": "stdout",
     "output_type": "stream",
     "text": [
      "+---+---------+---+----------+\n",
      "| ID|     name|age|numFriends|\n",
      "+---+---------+---+----------+\n",
      "|  4| b'Quark'| 68|        21|\n",
      "| 19|b'Geordi'| 60|       246|\n",
      "| 20|   b'Odo'| 67|       220|\n",
      "| 38|b'Deanna'| 64|        65|\n",
      "| 41|  b'Hugh'| 67|       167|\n",
      "+---+---------+---+----------+\n",
      "only showing top 5 rows\n",
      "\n"
     ]
    }
   ],
   "source": [
    "people_sql.filter(people_sql[\"age\"]>=60).show(5)"
   ]
  },
  {
   "cell_type": "code",
   "execution_count": 70,
   "id": "4efd7c9f",
   "metadata": {},
   "outputs": [
    {
     "name": "stdout",
     "output_type": "stream",
     "text": [
      "+---+----------+---+----------+\n",
      "| ID|      name|age|numFriends|\n",
      "+---+----------+---+----------+\n",
      "| 21|  b'Miles'| 19|       268|\n",
      "| 52|b'Beverly'| 19|       269|\n",
      "| 54|  b'Brunt'| 19|         5|\n",
      "|106|b'Beverly'| 18|       499|\n",
      "|115|  b'Dukat'| 18|       397|\n",
      "|133|  b'Quark'| 19|       265|\n",
      "|136|   b'Will'| 19|       335|\n",
      "|225|   b'Elim'| 19|       106|\n",
      "|304|   b'Will'| 19|       404|\n",
      "|341|   b'Data'| 18|       326|\n",
      "|366|  b'Keiko'| 19|       119|\n",
      "|373|  b'Quark'| 19|       272|\n",
      "|377|b'Beverly'| 18|       418|\n",
      "|404| b'Kasidy'| 18|        24|\n",
      "|409|    b'Nog'| 19|       267|\n",
      "|439|   b'Data'| 18|       417|\n",
      "|444|  b'Keiko'| 18|       472|\n",
      "|492|  b'Dukat'| 19|        36|\n",
      "|494| b'Kasidy'| 18|       194|\n",
      "+---+----------+---+----------+\n",
      "\n"
     ]
    }
   ],
   "source": [
    "people_sql.where((people_sql[\"age\"]>=13) & (people_sql[\"age\"]<=19)).show(20)"
   ]
  },
  {
   "cell_type": "code",
   "execution_count": 8,
   "id": "2df8cae7",
   "metadata": {},
   "outputs": [],
   "source": [
    "teenagers = spark.sql(\"SELECT * FROM people WHERE age >= 13 AND age <= 19\")"
   ]
  },
  {
   "cell_type": "code",
   "execution_count": 9,
   "id": "3e8b86ff",
   "metadata": {},
   "outputs": [
    {
     "name": "stdout",
     "output_type": "stream",
     "text": [
      "Row(ID=21, name=\"b'Miles'\", age=19, numFriends=268)\n",
      "Row(ID=52, name=\"b'Beverly'\", age=19, numFriends=269)\n",
      "Row(ID=54, name=\"b'Brunt'\", age=19, numFriends=5)\n",
      "Row(ID=106, name=\"b'Beverly'\", age=18, numFriends=499)\n",
      "Row(ID=115, name=\"b'Dukat'\", age=18, numFriends=397)\n",
      "Row(ID=133, name=\"b'Quark'\", age=19, numFriends=265)\n",
      "Row(ID=136, name=\"b'Will'\", age=19, numFriends=335)\n",
      "Row(ID=225, name=\"b'Elim'\", age=19, numFriends=106)\n",
      "Row(ID=304, name=\"b'Will'\", age=19, numFriends=404)\n",
      "Row(ID=341, name=\"b'Data'\", age=18, numFriends=326)\n",
      "Row(ID=366, name=\"b'Keiko'\", age=19, numFriends=119)\n",
      "Row(ID=373, name=\"b'Quark'\", age=19, numFriends=272)\n",
      "Row(ID=377, name=\"b'Beverly'\", age=18, numFriends=418)\n",
      "Row(ID=404, name=\"b'Kasidy'\", age=18, numFriends=24)\n",
      "Row(ID=409, name=\"b'Nog'\", age=19, numFriends=267)\n",
      "Row(ID=439, name=\"b'Data'\", age=18, numFriends=417)\n",
      "Row(ID=444, name=\"b'Keiko'\", age=18, numFriends=472)\n",
      "Row(ID=492, name=\"b'Dukat'\", age=19, numFriends=36)\n",
      "Row(ID=494, name=\"b'Kasidy'\", age=18, numFriends=194)\n"
     ]
    }
   ],
   "source": [
    "for teen in teenagers.collect():\n",
    "    print(teen)"
   ]
  },
  {
   "cell_type": "code",
   "execution_count": 10,
   "id": "5e9793ae",
   "metadata": {},
   "outputs": [
    {
     "name": "stdout",
     "output_type": "stream",
     "text": [
      "+---+-----+\n",
      "|age|count|\n",
      "+---+-----+\n",
      "| 18|    8|\n",
      "| 19|   11|\n",
      "| 20|    5|\n",
      "| 21|    8|\n",
      "| 22|    7|\n",
      "| 23|   10|\n",
      "| 24|    5|\n",
      "| 25|   11|\n",
      "| 26|   17|\n",
      "| 27|    8|\n",
      "| 28|   10|\n",
      "| 29|   12|\n",
      "| 30|   11|\n",
      "| 31|    8|\n",
      "| 32|   11|\n",
      "| 33|   12|\n",
      "| 34|    6|\n",
      "| 35|    8|\n",
      "| 36|   10|\n",
      "| 37|    9|\n",
      "+---+-----+\n",
      "only showing top 20 rows\n",
      "\n"
     ]
    }
   ],
   "source": [
    "schemaPeople.groupBy(\"age\").count().orderBy(\"age\").show()"
   ]
  },
  {
   "cell_type": "markdown",
   "id": "576965da",
   "metadata": {
    "heading_collapsed": true
   },
   "source": [
    "# UDFs"
   ]
  },
  {
   "cell_type": "code",
   "execution_count": 40,
   "id": "6d057f7b",
   "metadata": {
    "hidden": true
   },
   "outputs": [],
   "source": [
    "from pyspark.sql.types import IntegerType"
   ]
  },
  {
   "cell_type": "code",
   "execution_count": null,
   "id": "a7cb1a3f",
   "metadata": {
    "hidden": true
   },
   "outputs": [],
   "source": []
  },
  {
   "cell_type": "code",
   "execution_count": null,
   "id": "5453968e",
   "metadata": {
    "hidden": true
   },
   "outputs": [],
   "source": []
  },
  {
   "cell_type": "markdown",
   "id": "0d075eff",
   "metadata": {},
   "source": [
    "# Using Dataframes instead of Rdds"
   ]
  },
  {
   "cell_type": "code",
   "execution_count": 50,
   "id": "fd756e2f",
   "metadata": {},
   "outputs": [],
   "source": [
    "from pyspark.sql import SparkSession\n",
    "from pyspark.sql import Row\n",
    "from pyspark.sql import functions"
   ]
  },
  {
   "cell_type": "code",
   "execution_count": 57,
   "id": "fd90cb41",
   "metadata": {},
   "outputs": [],
   "source": [
    "def loadMovieNames():\n",
    "    movieNames = {}\n",
    "    with open(\"data/u.item\",encoding=\"ISO-8859-1\") as f:\n",
    "        for line in f:\n",
    "            fields = line.split('|')\n",
    "            movieNames[int(fields[0])] = fields[1]\n",
    "    return movieNames"
   ]
  },
  {
   "cell_type": "code",
   "execution_count": 58,
   "id": "1400b67f",
   "metadata": {},
   "outputs": [],
   "source": [
    "nameDict = loadMovieNames()"
   ]
  },
  {
   "cell_type": "code",
   "execution_count": 59,
   "id": "9266c668",
   "metadata": {},
   "outputs": [],
   "source": [
    "lines = spark.sparkContext.textFile(\"data/u.data\")"
   ]
  },
  {
   "cell_type": "code",
   "execution_count": 60,
   "id": "65284020",
   "metadata": {},
   "outputs": [],
   "source": [
    "#Convert RDD to a Row Object\n",
    "movies = lines.map(lambda x: Row(movieID =int(x.split()[1])))"
   ]
  },
  {
   "cell_type": "code",
   "execution_count": 61,
   "id": "ceabde28",
   "metadata": {},
   "outputs": [
    {
     "data": {
      "text/plain": [
       "[Row(movieID=1682),\n",
       " Row(movieID=1681),\n",
       " Row(movieID=1680),\n",
       " Row(movieID=1679),\n",
       " Row(movieID=1678)]"
      ]
     },
     "execution_count": 61,
     "metadata": {},
     "output_type": "execute_result"
    }
   ],
   "source": [
    "movies.top(5)"
   ]
  },
  {
   "cell_type": "code",
   "execution_count": 62,
   "id": "6fc4135a",
   "metadata": {},
   "outputs": [],
   "source": [
    "#convert to a dataframe\n",
    "movieDataset = spark.createDataFrame(movies)"
   ]
  },
  {
   "cell_type": "code",
   "execution_count": 63,
   "id": "68acfc7d",
   "metadata": {},
   "outputs": [],
   "source": [
    "topMovieIDs = movieDataset.groupBy(\"movieID\").count().orderBy(\"count\", ascending=False).cache()"
   ]
  },
  {
   "cell_type": "code",
   "execution_count": 65,
   "id": "e2827336",
   "metadata": {},
   "outputs": [
    {
     "name": "stderr",
     "output_type": "stream",
     "text": [
      "[Stage 15:====================================================> (193 + 4) / 200]\r"
     ]
    },
    {
     "name": "stdout",
     "output_type": "stream",
     "text": [
      "+-------+-----+\n",
      "|movieID|count|\n",
      "+-------+-----+\n",
      "|     50|  583|\n",
      "|    258|  509|\n",
      "|    100|  508|\n",
      "|    181|  507|\n",
      "|    294|  485|\n",
      "+-------+-----+\n",
      "only showing top 5 rows\n",
      "\n"
     ]
    },
    {
     "name": "stderr",
     "output_type": "stream",
     "text": [
      "\r",
      "                                                                                \r"
     ]
    }
   ],
   "source": [
    "topMovieIDs.show(5)"
   ]
  },
  {
   "cell_type": "code",
   "execution_count": 66,
   "id": "dfbc2dd6",
   "metadata": {},
   "outputs": [],
   "source": [
    "top10 = topMovieIDs.take(5)"
   ]
  },
  {
   "cell_type": "code",
   "execution_count": 68,
   "id": "d07ba67a",
   "metadata": {},
   "outputs": [
    {
     "name": "stdout",
     "output_type": "stream",
     "text": [
      "Star Wars (1977): 583\n",
      "Contact (1997): 509\n",
      "Fargo (1996): 508\n",
      "Return of the Jedi (1983): 507\n",
      "Liar Liar (1997): 485\n"
     ]
    }
   ],
   "source": [
    "for result in top10:\n",
    "    # Each row has movieID, count as above.\n",
    "    print(\"%s: %d\" % (nameDict[result[0]], result[1]))"
   ]
  },
  {
   "cell_type": "markdown",
   "id": "c7e4496e",
   "metadata": {},
   "source": [
    "# Movie Reccomendation Using ALS"
   ]
  },
  {
   "cell_type": "code",
   "execution_count": null,
   "id": "cd0a0bfb",
   "metadata": {},
   "outputs": [],
   "source": []
  }
 ],
 "metadata": {
  "kernelspec": {
   "display_name": "Python 3 (ipykernel)",
   "language": "python",
   "name": "python3"
  },
  "language_info": {
   "codemirror_mode": {
    "name": "ipython",
    "version": 3
   },
   "file_extension": ".py",
   "mimetype": "text/x-python",
   "name": "python",
   "nbconvert_exporter": "python",
   "pygments_lexer": "ipython3",
   "version": "3.7.0"
  }
 },
 "nbformat": 4,
 "nbformat_minor": 5
}
